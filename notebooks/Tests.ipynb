{
 "cells": [
  {
   "cell_type": "code",
   "execution_count": 1,
   "metadata": {},
   "outputs": [],
   "source": [
    "from IPython.display import display, Math\n",
    "from pyps import Basis, Hamiltonian"
   ]
  },
  {
   "cell_type": "code",
   "execution_count": 2,
   "metadata": {},
   "outputs": [
    {
     "name": "stdout",
     "output_type": "stream",
     "text": [
      "A UserList of State instances.\n",
      "\n",
      "    Attributes\n",
      "    ----------\n",
      "    data : list\n",
      "    num_states : int\n",
      "\n",
      "    Methods\n",
      "    -------\n",
      "    create(n_values, L_values, S_values, MJ_values)\n",
      "        Create an [n,L,S,J,MJ] basis set.\n",
      "    values(attribute, array=False)\n",
      "        Attribute values of the basis.\n",
      "    where(condition, array=False)\n",
      "        Matching elements of the basis.\n",
      "    el(condition)\n",
      "        First matching element of basis.\n",
      "    argwhere(condition, array=False)\n",
      "        Matching indexes of the basis.\n",
      "    ix(condition)\n",
      "        First matching index of basis.\n",
      "    extract_states(inds):\n",
      "        Subset of the basis set.\n",
      "\n",
      "    \n"
     ]
    }
   ],
   "source": [
    "print(Basis.__doc__)"
   ]
  },
  {
   "cell_type": "code",
   "execution_count": 3,
   "metadata": {},
   "outputs": [
    {
     "name": "stdout",
     "output_type": "stream",
     "text": [
      "number of basis states: 56\n"
     ]
    }
   ],
   "source": [
    "basis = Basis.create(n_values=range(4))\n",
    "assert basis.num_states == 56\n",
    "print(\"number of basis states:\", \"%d\" % basis.num_states)"
   ]
  },
  {
   "cell_type": "code",
   "execution_count": 4,
   "metadata": {},
   "outputs": [
    {
     "data": {
      "text/plain": [
       "State(n=1, L=0, S=0, J=0, MJ=0)"
      ]
     },
     "execution_count": 4,
     "metadata": {},
     "output_type": "execute_result"
    }
   ],
   "source": [
    "basis[0]"
   ]
  },
  {
   "cell_type": "code",
   "execution_count": 5,
   "metadata": {},
   "outputs": [
    {
     "data": {
      "text/plain": [
       "'-6.8033 eV'"
      ]
     },
     "execution_count": 5,
     "metadata": {},
     "output_type": "execute_result"
    }
   ],
   "source": [
    "f\"{basis[0].energy(units='eV'):.4f} eV\""
   ]
  },
  {
   "cell_type": "code",
   "execution_count": 6,
   "metadata": {},
   "outputs": [
    {
     "data": {
      "text/latex": [
       "$\\displaystyle 1^1S_0\\,(M_J = 0)$"
      ],
      "text/plain": [
       "<IPython.core.display.Math object>"
      ]
     },
     "metadata": {},
     "output_type": "display_data"
    }
   ],
   "source": [
    "display(Math(basis[0].tex()))"
   ]
  },
  {
   "cell_type": "code",
   "execution_count": 7,
   "metadata": {},
   "outputs": [
    {
     "name": "stdout",
     "output_type": "stream",
     "text": [
      "❘1 0 0 0 0⟩\n"
     ]
    }
   ],
   "source": [
    "H = Hamiltonian(basis)\n",
    "print(H.basis[0])"
   ]
  },
  {
   "cell_type": "code",
   "execution_count": 8,
   "metadata": {},
   "outputs": [
    {
     "name": "stdout",
     "output_type": "stream",
     "text": [
      "[1 1 1 1 2 2 2 2 2 2 2 2 2 2 2 2 2 2 2 2 3 3 3 3 3 3 3 3 3 3 3 3 3 3 3 3 3\n",
      " 3 3 3 3 3 3 3 3 3 3 3 3 3 3 3 3 3 3 3]\n"
     ]
    }
   ],
   "source": [
    "n_values = basis.values('n', array=True)\n",
    "print(n_values)"
   ]
  },
  {
   "cell_type": "code",
   "execution_count": 9,
   "metadata": {},
   "outputs": [
    {
     "data": {
      "text/plain": [
       "State(n=2, L=1, S=1, J=2, MJ=0)"
      ]
     },
     "execution_count": 9,
     "metadata": {},
     "output_type": "execute_result"
    }
   ],
   "source": [
    "basis[14]"
   ]
  },
  {
   "cell_type": "code",
   "execution_count": 10,
   "metadata": {},
   "outputs": [
    {
     "data": {
      "text/latex": [
       "$\\displaystyle 2^3P_2\\,(M_J = 0)$"
      ],
      "text/plain": [
       "<IPython.core.display.Math object>"
      ]
     },
     "metadata": {},
     "output_type": "display_data"
    }
   ],
   "source": [
    "display(Math(basis[14].tex()))"
   ]
  },
  {
   "cell_type": "code",
   "execution_count": 11,
   "metadata": {},
   "outputs": [
    {
     "data": {
      "text/plain": [
       "[State(n=2, L=0, S=0, J=0, MJ=0),\n",
       " State(n=2, L=1, S=1, J=0, MJ=0),\n",
       " State(n=2, L=1, S=1, J=1, MJ=-1),\n",
       " State(n=2, L=1, S=1, J=1, MJ=0),\n",
       " State(n=2, L=1, S=1, J=1, MJ=1),\n",
       " State(n=2, L=1, S=0, J=1, MJ=-1),\n",
       " State(n=2, L=1, S=0, J=1, MJ=0),\n",
       " State(n=2, L=1, S=0, J=1, MJ=1),\n",
       " State(n=2, L=1, S=1, J=2, MJ=-2),\n",
       " State(n=2, L=1, S=1, J=2, MJ=-1),\n",
       " State(n=2, L=1, S=1, J=2, MJ=0),\n",
       " State(n=2, L=1, S=1, J=2, MJ=1),\n",
       " State(n=2, L=1, S=1, J=2, MJ=2),\n",
       " State(n=2, L=0, S=1, J=1, MJ=-1),\n",
       " State(n=2, L=0, S=1, J=1, MJ=0),\n",
       " State(n=2, L=0, S=1, J=1, MJ=1)]"
      ]
     },
     "execution_count": 11,
     "metadata": {},
     "output_type": "execute_result"
    }
   ],
   "source": [
    "list(basis.where(lambda x: x.n == 2))"
   ]
  },
  {
   "cell_type": "code",
   "execution_count": 12,
   "metadata": {},
   "outputs": [
    {
     "name": "stdout",
     "output_type": "stream",
     "text": [
      "❘1 0 0 0 0⟩\n",
      "❘2 0 0 0 0⟩\n",
      "❘2 1 0 1 0⟩\n",
      "❘3 0 0 0 0⟩\n",
      "❘3 1 0 1 0⟩\n",
      "❘3 2 0 2 0⟩\n",
      "❘2 1 1 1 0⟩\n",
      "❘3 1 1 1 0⟩\n",
      "❘3 2 1 2 0⟩\n"
     ]
    }
   ],
   "source": [
    "sub_basis = Basis.create(\n",
    "    range(4),\n",
    "    MJ_values=[0],\n",
    "    filter_function=lambda x: x.J == x.L,\n",
    "    sort_key=lambda x: x.S,\n",
    ")\n",
    "print(*sub_basis, sep=\"\\n\")"
   ]
  },
  {
   "cell_type": "code",
   "execution_count": 13,
   "metadata": {},
   "outputs": [
    {
     "name": "stdout",
     "output_type": "stream",
     "text": [
      "Hamiltonian\n",
      "\n",
      "    Attributes\n",
      "    ----------\n",
      "    basis : Basis\n",
      "        A list of instances of State.\n",
      "    dims : (int, int)\n",
      "        dimensions of the Hamiltonian matrix.\n",
      "    numerov : bool\n",
      "        use numerov for stark?\n",
      "    m_alpha6 : bool\n",
      "        include O(m alpha^6)terms for S and P states?\n",
      "    upper : bool\n",
      "        include upper matrix elements?\n",
      "    sparse_format : str (default=\"csr\")\n",
      "        sparse matrix format, e.g., \"csr\",  \"csc\" or \"array\".\n",
      "\n",
      "    Methods\n",
      "    -------\n",
      "    reset()\n",
      "        wipe the in-memory cache of sparse matrices.\n",
      "    e0()\n",
      "        field-free Hamiltonian matrix.\n",
      "    stark(Fz)\n",
      "        Stark interaction matrix.\n",
      "    zeeman(Bz)\n",
      "        Zeeman interaction matrix.\n",
      "    total(Fz, Bz)\n",
      "        total Hamiltonian matrix.\n",
      "    eigenenergies(electric_field, magnetic_field)\n",
      "        eigenvalues of the total Hamiltonian.\n",
      "    eigenstates(electric_field, magnetic_field)\n",
      "        eigenvalues and vectors of the total Hamiltonian.\n",
      "    stark_map(electric_fields)\n",
      "        eigenvalues of the Hamiltonian for a range of electric fields.\n",
      "    zeeman_map(magnetic_fields)\n",
      "        eigenvalues of the Hamiltonian for a range of magnetic fields.\n",
      "    \n"
     ]
    }
   ],
   "source": [
    "print(Hamiltonian.__doc__)"
   ]
  },
  {
   "cell_type": "code",
   "execution_count": 14,
   "metadata": {},
   "outputs": [
    {
     "name": "stderr",
     "output_type": "stream",
     "text": [
      "Stark: 100%|████████████████████████████████████| 56/56 [00:01<00:00, 44.33it/s]\n",
      "Zeeman: 100%|██████████████████████████████████| 56/56 [00:00<00:00, 843.00it/s]\n"
     ]
    }
   ],
   "source": [
    "electric_field = 10.1  # [V / m]\n",
    "magnetic_field = 0.1  # [T]\n",
    "en = H.eigenenergies(electric_field, magnetic_field, units=\"eV\")"
   ]
  },
  {
   "cell_type": "code",
   "execution_count": 15,
   "metadata": {},
   "outputs": [
    {
     "name": "stdout",
     "output_type": "stream",
     "text": [
      "[-1.70078642 -1.70075803 -1.70073996 -1.70073996 -1.70073383 -1.70073056\n",
      " -1.70072534 -1.70072534 -1.70071569 -1.70071569 -1.7007105  -1.7007105\n",
      " -1.7007099  -1.70068002 -1.70068002 -1.70067876]\n"
     ]
    }
   ],
   "source": [
    "inds = basis.argwhere(lambda state: state.n == 2, array=True)\n",
    "print(en[inds])"
   ]
  },
  {
   "cell_type": "code",
   "execution_count": 16,
   "metadata": {},
   "outputs": [
    {
     "data": {
      "text/plain": [
       "Basis([State(n=2, L=0, S=0, J=0, MJ=0),\n",
       "       State(n=2, L=1, S=1, J=0, MJ=0),\n",
       "       State(n=2, L=1, S=1, J=1, MJ=-1),\n",
       "       State(n=2, L=1, S=1, J=1, MJ=0),\n",
       "       State(n=2, L=1, S=1, J=1, MJ=1),\n",
       "       State(n=2, L=1, S=0, J=1, MJ=-1),\n",
       "       State(n=2, L=1, S=0, J=1, MJ=0),\n",
       "       State(n=2, L=1, S=0, J=1, MJ=1),\n",
       "       State(n=2, L=1, S=1, J=2, MJ=-2),\n",
       "       State(n=2, L=1, S=1, J=2, MJ=-1),\n",
       "       State(n=2, L=1, S=1, J=2, MJ=0),\n",
       "       State(n=2, L=1, S=1, J=2, MJ=1),\n",
       "       State(n=2, L=1, S=1, J=2, MJ=2),\n",
       "       State(n=2, L=0, S=1, J=1, MJ=-1),\n",
       "       State(n=2, L=0, S=1, J=1, MJ=0),\n",
       "       State(n=2, L=0, S=1, J=1, MJ=1)])"
      ]
     },
     "execution_count": 16,
     "metadata": {},
     "output_type": "execute_result"
    }
   ],
   "source": [
    "basis.extract_states(inds)"
   ]
  },
  {
   "cell_type": "code",
   "execution_count": 17,
   "metadata": {},
   "outputs": [],
   "source": [
    "vals, vecs = H.eigenstates(electric_field=100)"
   ]
  },
  {
   "cell_type": "code",
   "execution_count": 18,
   "metadata": {},
   "outputs": [
    {
     "data": {
      "text/plain": [
       "array([-0.25001706, -0.24998615, -0.24998615, -0.24998615, -0.0625027 ,\n",
       "       -0.06250165, -0.06250082, -0.06250082, -0.06250082, -0.06250054,\n",
       "       -0.06250054, -0.06250054, -0.06250015, -0.06250015, -0.06250015,\n",
       "       -0.06250015, -0.06250015, -0.06249884, -0.06249884, -0.06249884,\n",
       "       -0.02777863, -0.02777832, -0.02777808, -0.02777808, -0.02777808,\n",
       "       -0.02777799, -0.02777799, -0.02777799, -0.02777794, -0.02777794,\n",
       "       -0.02777794, -0.02777788, -0.02777788, -0.02777788, -0.02777788,\n",
       "       -0.02777788, -0.02777788, -0.02777788, -0.02777788, -0.02777788,\n",
       "       -0.02777788, -0.02777786, -0.02777786, -0.02777786, -0.02777786,\n",
       "       -0.02777786, -0.02777782, -0.02777782, -0.02777782, -0.02777782,\n",
       "       -0.02777781, -0.02777781, -0.02777781, -0.02777749, -0.02777749,\n",
       "       -0.02777749])"
      ]
     },
     "execution_count": 18,
     "metadata": {},
     "output_type": "execute_result"
    }
   ],
   "source": [
    "vals"
   ]
  },
  {
   "cell_type": "code",
   "execution_count": 19,
   "metadata": {},
   "outputs": [
    {
     "data": {
      "text/plain": [
       "array([[ 1.00000000e+00,  2.47894763e-21,  1.87226384e-22, ...,\n",
       "         4.96047097e-31,  1.68485854e-31, -7.86895112e-34],\n",
       "       [ 2.48423017e-21, -9.94477976e-01, -1.03336460e-01, ...,\n",
       "         9.69633272e-17, -3.19295622e-12,  1.37350594e-14],\n",
       "       [-8.04820887e-23,  9.88481053e-02, -8.63743554e-01, ...,\n",
       "        -3.15704648e-12, -1.30206343e-16,  3.05498321e-19],\n",
       "       ...,\n",
       "       [-1.30402060e-38,  5.06164979e-18,  5.04280631e-18, ...,\n",
       "        -3.09167739e-05,  9.99971281e-01, -4.30155145e-03],\n",
       "       [ 4.22438514e-40, -9.30138207e-19,  1.53040410e-17, ...,\n",
       "         9.99980009e-01,  3.09168036e-05, -5.58644525e-08],\n",
       "       [ 1.76230192e-48,  1.85116463e-19, -2.59062142e-18, ...,\n",
       "        -7.71289478e-08,  4.30155145e-03,  9.99971282e-01]])"
      ]
     },
     "execution_count": 19,
     "metadata": {},
     "output_type": "execute_result"
    }
   ],
   "source": [
    "vecs"
   ]
  },
  {
   "cell_type": "code",
   "execution_count": null,
   "metadata": {},
   "outputs": [],
   "source": []
  }
 ],
 "metadata": {
  "kernelspec": {
   "display_name": "Python 3 (ipykernel)",
   "language": "python",
   "name": "python3"
  },
  "language_info": {
   "codemirror_mode": {
    "name": "ipython",
    "version": 3
   },
   "file_extension": ".py",
   "mimetype": "text/x-python",
   "name": "python",
   "nbconvert_exporter": "python",
   "pygments_lexer": "ipython3",
   "version": "3.9.12"
  }
 },
 "nbformat": 4,
 "nbformat_minor": 2
}
