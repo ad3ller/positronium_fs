{
 "cells": [
  {
   "cell_type": "code",
   "execution_count": 1,
   "metadata": {},
   "outputs": [],
   "source": [
    "from IPython.display import display, Math\n",
    "from pyps import Basis, Hamiltonian"
   ]
  },
  {
   "cell_type": "code",
   "execution_count": 2,
   "metadata": {},
   "outputs": [
    {
     "name": "stdout",
     "output_type": "stream",
     "text": [
      "A UserList of State instances.\n",
      "\n",
      "    Attributes\n",
      "    ----------\n",
      "    data : list\n",
      "    num_states : int\n",
      "\n",
      "    Methods\n",
      "    -------\n",
      "    update(states):\n",
      "        Update the list of states.\n",
      "    values(attribute, ndarray=False)\n",
      "        Attribute values of the basis.\n",
      "    where(function, ndarray=False)\n",
      "        Elements of the basis.\n",
      "    argwhere(function, ndarray=False)\n",
      "        Indexes of the basis.\n",
      "    extract_states(inds):\n",
      "        Subset of the basis set.\n",
      "\n",
      "    \n"
     ]
    }
   ],
   "source": [
    "print(Basis.__doc__)"
   ]
  },
  {
   "cell_type": "code",
   "execution_count": 3,
   "metadata": {},
   "outputs": [
    {
     "name": "stdout",
     "output_type": "stream",
     "text": [
      "number of basis states: 56\n"
     ]
    }
   ],
   "source": [
    "basis = Basis(n_values=range(4))\n",
    "assert basis.num_states == 56\n",
    "print(\"number of basis states:\", \"%d\" % basis.num_states)"
   ]
  },
  {
   "cell_type": "code",
   "execution_count": 4,
   "metadata": {},
   "outputs": [
    {
     "data": {
      "text/plain": [
       "State(n=1, L=0, S=0, J=0, MJ=0)"
      ]
     },
     "execution_count": 4,
     "metadata": {},
     "output_type": "execute_result"
    }
   ],
   "source": [
    "basis[0]"
   ]
  },
  {
   "cell_type": "code",
   "execution_count": 5,
   "metadata": {},
   "outputs": [
    {
     "data": {
      "text/plain": [
       "'-6.8033 eV'"
      ]
     },
     "execution_count": 5,
     "metadata": {},
     "output_type": "execute_result"
    }
   ],
   "source": [
    "f\"{basis[0].energy(units='eV'):.4f} eV\""
   ]
  },
  {
   "cell_type": "code",
   "execution_count": 6,
   "metadata": {},
   "outputs": [
    {
     "data": {
      "text/latex": [
       "$\\displaystyle 1^1S_0\\,(M_J = 0)$"
      ],
      "text/plain": [
       "<IPython.core.display.Math object>"
      ]
     },
     "metadata": {},
     "output_type": "display_data"
    }
   ],
   "source": [
    "display(Math(basis[0].tex()))"
   ]
  },
  {
   "cell_type": "code",
   "execution_count": 7,
   "metadata": {},
   "outputs": [
    {
     "name": "stdout",
     "output_type": "stream",
     "text": [
      "❘1 0 0 0 0⟩\n"
     ]
    }
   ],
   "source": [
    "H = Hamiltonian(basis)\n",
    "print(H.basis[0])"
   ]
  },
  {
   "cell_type": "code",
   "execution_count": 8,
   "metadata": {},
   "outputs": [
    {
     "name": "stdout",
     "output_type": "stream",
     "text": [
      "[1 1 1 1 2 2 2 2 2 2 2 2 2 2 2 2 2 2 2 2 3 3 3 3 3 3 3 3 3 3 3 3 3 3 3 3 3\n",
      " 3 3 3 3 3 3 3 3 3 3 3 3 3 3 3 3 3 3 3]\n"
     ]
    }
   ],
   "source": [
    "n_values = basis.values('n', ndarray=True)\n",
    "print(n_values)"
   ]
  },
  {
   "cell_type": "code",
   "execution_count": 9,
   "metadata": {},
   "outputs": [
    {
     "data": {
      "text/plain": [
       "State(n=2, L=1, S=1, J=2, MJ=0)"
      ]
     },
     "execution_count": 9,
     "metadata": {},
     "output_type": "execute_result"
    }
   ],
   "source": [
    "basis[14]"
   ]
  },
  {
   "cell_type": "code",
   "execution_count": 10,
   "metadata": {},
   "outputs": [
    {
     "data": {
      "text/latex": [
       "$\\displaystyle 2^3P_2\\,(M_J = 0)$"
      ],
      "text/plain": [
       "<IPython.core.display.Math object>"
      ]
     },
     "metadata": {},
     "output_type": "display_data"
    }
   ],
   "source": [
    "display(Math(basis[14].tex()))"
   ]
  },
  {
   "cell_type": "code",
   "execution_count": 11,
   "metadata": {},
   "outputs": [
    {
     "data": {
      "text/plain": [
       "[State(n=2, L=0, S=0, J=0, MJ=0),\n",
       " State(n=2, L=1, S=1, J=0, MJ=0),\n",
       " State(n=2, L=1, S=1, J=1, MJ=-1),\n",
       " State(n=2, L=1, S=1, J=1, MJ=0),\n",
       " State(n=2, L=1, S=1, J=1, MJ=1),\n",
       " State(n=2, L=1, S=0, J=1, MJ=-1),\n",
       " State(n=2, L=1, S=0, J=1, MJ=0),\n",
       " State(n=2, L=1, S=0, J=1, MJ=1),\n",
       " State(n=2, L=1, S=1, J=2, MJ=-2),\n",
       " State(n=2, L=1, S=1, J=2, MJ=-1),\n",
       " State(n=2, L=1, S=1, J=2, MJ=0),\n",
       " State(n=2, L=1, S=1, J=2, MJ=1),\n",
       " State(n=2, L=1, S=1, J=2, MJ=2),\n",
       " State(n=2, L=0, S=1, J=1, MJ=-1),\n",
       " State(n=2, L=0, S=1, J=1, MJ=0),\n",
       " State(n=2, L=0, S=1, J=1, MJ=1)]"
      ]
     },
     "execution_count": 11,
     "metadata": {},
     "output_type": "execute_result"
    }
   ],
   "source": [
    "list(basis.where(lambda x: x.n == 2))"
   ]
  },
  {
   "cell_type": "code",
   "execution_count": 12,
   "metadata": {},
   "outputs": [
    {
     "name": "stdout",
     "output_type": "stream",
     "text": [
      "❘1 0 0 0 0⟩\n",
      "❘2 0 0 0 0⟩\n",
      "❘2 1 0 1 0⟩\n",
      "❘3 0 0 0 0⟩\n",
      "❘3 1 0 1 0⟩\n",
      "❘3 2 0 2 0⟩\n",
      "❘2 1 1 1 0⟩\n",
      "❘3 1 1 1 0⟩\n",
      "❘3 2 1 2 0⟩\n"
     ]
    }
   ],
   "source": [
    "sub_basis = Basis(\n",
    "    range(4),\n",
    "    MJ_values=[0],\n",
    "    filter_function=lambda x: x.J == x.L,\n",
    "    sort_key=lambda x: x.S,\n",
    ")\n",
    "print(*sub_basis, sep=\"\\n\")"
   ]
  },
  {
   "cell_type": "code",
   "execution_count": 13,
   "metadata": {},
   "outputs": [
    {
     "name": "stdout",
     "output_type": "stream",
     "text": [
      "Hamiltonian\n",
      "\n",
      "    Attributes\n",
      "    ----------\n",
      "    basis : Basis\n",
      "        A list of instances of State.\n",
      "    dims : (int, int)\n",
      "        dimensions of the Hamiltonian matrix.\n",
      "    numerov : bool\n",
      "        use numerov for stark? (default=False)\n",
      "    m_alpha6 : bool\n",
      "        include m alpha^6 terms for s and p states?\n",
      "    upper : bool (default=False)\n",
      "        include upper matrix elements?\n",
      "    sparse_format : str (default=\"csr\")\n",
      "        sparse matrix format, e.g., \"csr\",  \"csc\" or \"array\".\n",
      "\n",
      "    Methods\n",
      "    -------\n",
      "    reset()\n",
      "        wipe the in-memory cache of sparse matrices.\n",
      "    e0()\n",
      "        field-free Hamiltonian matrix.\n",
      "    stark(Fz)\n",
      "        Stark interaction matrix.\n",
      "    zeeman(Bz)\n",
      "        Zeeman interaction matrix.\n",
      "    total(Fz, Bz)\n",
      "        total Hamiltonian matrix.\n",
      "    eigenenergies(electric_field, magnetic_field)\n",
      "        eigenvalues of the total Hamiltonian.\n",
      "    eigenstates(electric_field, magnetic_field)\n",
      "        eigenvalues and vectors of the total Hamiltonian.\n",
      "    stark_map(electric_fields)\n",
      "        eigenvalues of the Hamiltonian for a range of electric fields.\n",
      "    zeeman_map(magnetic_fields)\n",
      "        eigenvalues of the Hamiltonian for a range of magnetic fields.\n",
      "    \n"
     ]
    }
   ],
   "source": [
    "print(Hamiltonian.__doc__)"
   ]
  },
  {
   "cell_type": "code",
   "execution_count": 14,
   "metadata": {},
   "outputs": [
    {
     "name": "stderr",
     "output_type": "stream",
     "text": [
      "Stark: 100%|████████████████████████████████████| 56/56 [00:01<00:00, 38.89it/s]\n",
      "Zeeman: 100%|██████████████████████████████████| 56/56 [00:00<00:00, 875.30it/s]\n"
     ]
    }
   ],
   "source": [
    "electric_field = 10.1  # [V / m]\n",
    "magnetic_field = 0.1  # [T]\n",
    "en = H.eigenenergies(electric_field, magnetic_field, units=\"eV\")"
   ]
  },
  {
   "cell_type": "code",
   "execution_count": 15,
   "metadata": {},
   "outputs": [
    {
     "name": "stdout",
     "output_type": "stream",
     "text": [
      "[-1.70078789 -1.70075796 -1.70073995 -1.70073995 -1.70073381 -1.70073055\n",
      " -1.70072533 -1.70072533 -1.7007157  -1.7007157  -1.7007105  -1.7007105\n",
      " -1.7007099  -1.70068098 -1.70068098 -1.70067973]\n"
     ]
    }
   ],
   "source": [
    "inds = basis.argwhere(lambda state: state.n == 2, ndarray=True)\n",
    "print(en[inds])"
   ]
  },
  {
   "cell_type": "code",
   "execution_count": 16,
   "metadata": {},
   "outputs": [
    {
     "data": {
      "text/plain": [
       "[State(n=2, L=0, S=0, J=0, MJ=0), State(n=2, L=1, S=1, J=0, MJ=0), State(n=2, L=1, S=1, J=1, MJ=-1), State(n=2, L=1, S=1, J=1, MJ=0), State(n=2, L=1, S=1, J=1, MJ=1), State(n=2, L=1, S=0, J=1, MJ=-1), State(n=2, L=1, S=0, J=1, MJ=0), State(n=2, L=1, S=0, J=1, MJ=1), State(n=2, L=1, S=1, J=2, MJ=-2), State(n=2, L=1, S=1, J=2, MJ=-1), State(n=2, L=1, S=1, J=2, MJ=0), State(n=2, L=1, S=1, J=2, MJ=1), State(n=2, L=1, S=1, J=2, MJ=2), State(n=2, L=0, S=1, J=1, MJ=-1), State(n=2, L=0, S=1, J=1, MJ=0), State(n=2, L=0, S=1, J=1, MJ=1)]"
      ]
     },
     "execution_count": 16,
     "metadata": {},
     "output_type": "execute_result"
    }
   ],
   "source": [
    "basis.extract_states(inds)"
   ]
  },
  {
   "cell_type": "code",
   "execution_count": 17,
   "metadata": {},
   "outputs": [],
   "source": [
    "vals, vecs = H.eigenstates(electric_field=100)"
   ]
  },
  {
   "cell_type": "code",
   "execution_count": 18,
   "metadata": {},
   "outputs": [
    {
     "data": {
      "text/plain": [
       "array([-0.25001747, -0.24998641, -0.24998641, -0.24998641, -0.06250276,\n",
       "       -0.06250165, -0.06250081, -0.06250081, -0.06250081, -0.06250054,\n",
       "       -0.06250054, -0.06250054, -0.06250015, -0.06250015, -0.06250015,\n",
       "       -0.06250015, -0.06250015, -0.06249887, -0.06249887, -0.06249887,\n",
       "       -0.02777865, -0.02777832, -0.02777808, -0.02777808, -0.02777808,\n",
       "       -0.02777799, -0.02777799, -0.02777799, -0.02777794, -0.02777794,\n",
       "       -0.02777794, -0.02777788, -0.02777788, -0.02777788, -0.02777788,\n",
       "       -0.02777788, -0.02777788, -0.02777788, -0.02777788, -0.02777788,\n",
       "       -0.02777788, -0.02777786, -0.02777786, -0.02777786, -0.02777786,\n",
       "       -0.02777786, -0.02777782, -0.02777782, -0.02777782, -0.02777782,\n",
       "       -0.02777781, -0.02777781, -0.02777781, -0.0277775 , -0.0277775 ,\n",
       "       -0.0277775 ])"
      ]
     },
     "execution_count": 18,
     "metadata": {},
     "output_type": "execute_result"
    }
   ],
   "source": [
    "vals"
   ]
  },
  {
   "cell_type": "code",
   "execution_count": 19,
   "metadata": {},
   "outputs": [
    {
     "data": {
      "text/plain": [
       "array([[ 1.00000000e+00, -2.45392017e-22,  1.67069963e-23, ...,\n",
       "         2.26585003e-31,  3.49816128e-34, -5.48998657e-33],\n",
       "       [-2.41950329e-22, -9.69518785e-01,  2.44979226e-01, ...,\n",
       "         2.04631885e-18, -3.00708684e-13, -3.25703557e-12],\n",
       "       [-4.39181206e-23, -2.45012245e-01, -9.69241340e-01, ...,\n",
       "         3.23705017e-12, -1.69433471e-20,  2.00935856e-18],\n",
       "       ...,\n",
       "       [ 1.27007883e-39,  5.09034311e-18, -1.28709877e-18, ...,\n",
       "        -6.16577920e-07,  9.19330030e-02,  9.95744646e-01],\n",
       "       [ 2.30520631e-40,  1.28457706e-18,  5.05504713e-18, ...,\n",
       "        -9.99978930e-01,  5.18694128e-09, -6.19678742e-07],\n",
       "       [ 1.83100341e-47,  8.01152918e-21,  1.23954042e-19, ...,\n",
       "         6.21350949e-08,  9.95744646e-01, -9.19330030e-02]])"
      ]
     },
     "execution_count": 19,
     "metadata": {},
     "output_type": "execute_result"
    }
   ],
   "source": [
    "vecs"
   ]
  },
  {
   "cell_type": "code",
   "execution_count": null,
   "metadata": {},
   "outputs": [],
   "source": []
  }
 ],
 "metadata": {
  "kernelspec": {
   "display_name": "Python 3 (ipykernel)",
   "language": "python",
   "name": "python3"
  },
  "language_info": {
   "codemirror_mode": {
    "name": "ipython",
    "version": 3
   },
   "file_extension": ".py",
   "mimetype": "text/x-python",
   "name": "python",
   "nbconvert_exporter": "python",
   "pygments_lexer": "ipython3",
   "version": "3.9.7"
  }
 },
 "nbformat": 4,
 "nbformat_minor": 2
}
