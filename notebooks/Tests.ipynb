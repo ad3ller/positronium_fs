{
 "cells": [
  {
   "cell_type": "code",
   "execution_count": 1,
   "metadata": {},
   "outputs": [],
   "source": [
    "from IPython.display import display, Math\n",
    "from pyps import Basis, Hamiltonian"
   ]
  },
  {
   "cell_type": "code",
   "execution_count": 2,
   "metadata": {},
   "outputs": [
    {
     "name": "stdout",
     "output_type": "stream",
     "text": [
      "A UserList of State instances.\n",
      "\n",
      "    Attributes\n",
      "    ----------\n",
      "    data : list\n",
      "    num_states : int\n",
      "\n",
      "    Methods\n",
      "    -------\n",
      "    values(attribute, ndarray=False)\n",
      "        Attribute values of the basis.\n",
      "    where(function, ndarray=False)\n",
      "        Subset of the basis.\n",
      "    argwhere(function, ndarray=False)\n",
      "        Indexes of a subset of the basis.\n",
      "\n",
      "    \n"
     ]
    }
   ],
   "source": [
    "print(Basis.__doc__)"
   ]
  },
  {
   "cell_type": "code",
   "execution_count": 3,
   "metadata": {},
   "outputs": [
    {
     "name": "stdout",
     "output_type": "stream",
     "text": [
      "number of basis states: 56\n"
     ]
    }
   ],
   "source": [
    "basis = Basis(n_values=range(4))\n",
    "assert basis.num_states == 56\n",
    "print('number of basis states:', '%d'%basis.num_states)"
   ]
  },
  {
   "cell_type": "code",
   "execution_count": 4,
   "metadata": {},
   "outputs": [
    {
     "data": {
      "text/plain": [
       "State(n=1, L=0, S=0, J=0, MJ=0)"
      ]
     },
     "execution_count": 4,
     "metadata": {},
     "output_type": "execute_result"
    }
   ],
   "source": [
    "basis[0]"
   ]
  },
  {
   "cell_type": "code",
   "execution_count": 5,
   "metadata": {},
   "outputs": [
    {
     "data": {
      "text/plain": [
       "'-6.8033 eV'"
      ]
     },
     "execution_count": 5,
     "metadata": {},
     "output_type": "execute_result"
    }
   ],
   "source": [
    "f\"{basis[0].energy(units='eV'):.4f} eV\""
   ]
  },
  {
   "cell_type": "code",
   "execution_count": 6,
   "metadata": {},
   "outputs": [
    {
     "data": {
      "text/latex": [
       "$\\displaystyle 1^1S_0\\,(M_J = 0)$"
      ],
      "text/plain": [
       "<IPython.core.display.Math object>"
      ]
     },
     "metadata": {},
     "output_type": "display_data"
    }
   ],
   "source": [
    "display(Math(basis[0].tex()))"
   ]
  },
  {
   "cell_type": "code",
   "execution_count": 7,
   "metadata": {},
   "outputs": [
    {
     "name": "stdout",
     "output_type": "stream",
     "text": [
      "❘1 0 0 0 0⟩\n"
     ]
    }
   ],
   "source": [
    "H = Hamiltonian(basis)\n",
    "print(H.basis[0])"
   ]
  },
  {
   "cell_type": "code",
   "execution_count": 8,
   "metadata": {},
   "outputs": [
    {
     "name": "stdout",
     "output_type": "stream",
     "text": [
      "[1 1 1 1 2 2 2 2 2 2 2 2 2 2 2 2 2 2 2 2 3 3 3 3 3 3 3 3 3 3 3 3 3 3 3 3 3\n",
      " 3 3 3 3 3 3 3 3 3 3 3 3 3 3 3 3 3 3 3]\n"
     ]
    }
   ],
   "source": [
    "n_values = basis.values('n', ndarray=True)\n",
    "print(n_values)"
   ]
  },
  {
   "cell_type": "code",
   "execution_count": 9,
   "metadata": {},
   "outputs": [
    {
     "data": {
      "text/plain": [
       "State(n=2, L=1, S=1, J=2, MJ=0)"
      ]
     },
     "execution_count": 9,
     "metadata": {},
     "output_type": "execute_result"
    }
   ],
   "source": [
    "basis[14]"
   ]
  },
  {
   "cell_type": "code",
   "execution_count": 10,
   "metadata": {},
   "outputs": [
    {
     "data": {
      "text/latex": [
       "$\\displaystyle 2^3P_2\\,(M_J = 0)$"
      ],
      "text/plain": [
       "<IPython.core.display.Math object>"
      ]
     },
     "metadata": {},
     "output_type": "display_data"
    }
   ],
   "source": [
    "display(Math(basis[14].tex()))"
   ]
  },
  {
   "cell_type": "code",
   "execution_count": 11,
   "metadata": {},
   "outputs": [
    {
     "data": {
      "text/plain": [
       "[State(n=2, L=0, S=0, J=0, MJ=0),\n",
       " State(n=2, L=1, S=1, J=0, MJ=0),\n",
       " State(n=2, L=1, S=1, J=1, MJ=-1),\n",
       " State(n=2, L=1, S=1, J=1, MJ=0),\n",
       " State(n=2, L=1, S=1, J=1, MJ=1),\n",
       " State(n=2, L=1, S=0, J=1, MJ=-1),\n",
       " State(n=2, L=1, S=0, J=1, MJ=0),\n",
       " State(n=2, L=1, S=0, J=1, MJ=1),\n",
       " State(n=2, L=1, S=1, J=2, MJ=-2),\n",
       " State(n=2, L=1, S=1, J=2, MJ=-1),\n",
       " State(n=2, L=1, S=1, J=2, MJ=0),\n",
       " State(n=2, L=1, S=1, J=2, MJ=1),\n",
       " State(n=2, L=1, S=1, J=2, MJ=2),\n",
       " State(n=2, L=0, S=1, J=1, MJ=-1),\n",
       " State(n=2, L=0, S=1, J=1, MJ=0),\n",
       " State(n=2, L=0, S=1, J=1, MJ=1)]"
      ]
     },
     "execution_count": 11,
     "metadata": {},
     "output_type": "execute_result"
    }
   ],
   "source": [
    "list(basis.where(lambda x: x.n == 2))"
   ]
  },
  {
   "cell_type": "code",
   "execution_count": 12,
   "metadata": {},
   "outputs": [
    {
     "name": "stdout",
     "output_type": "stream",
     "text": [
      "❘1 0 0 0 0⟩\n",
      "❘2 0 0 0 0⟩\n",
      "❘2 1 0 1 0⟩\n",
      "❘3 0 0 0 0⟩\n",
      "❘3 1 0 1 0⟩\n",
      "❘3 2 0 2 0⟩\n",
      "❘2 1 1 1 0⟩\n",
      "❘3 1 1 1 0⟩\n",
      "❘3 2 1 2 0⟩\n"
     ]
    }
   ],
   "source": [
    "sub_basis = Basis(range(4),\n",
    "                  MJ_values=[0],\n",
    "                  filter_function=lambda x: x.J==x.L,\n",
    "                  sort_key=lambda x: x.S)\n",
    "print(*sub_basis, sep=\"\\n\")"
   ]
  },
  {
   "cell_type": "code",
   "execution_count": 13,
   "metadata": {},
   "outputs": [
    {
     "name": "stdout",
     "output_type": "stream",
     "text": [
      "Hamiltonian\n",
      "\n",
      "    Attributes\n",
      "    ----------\n",
      "    basis : Basis\n",
      "        The basis set of instances of State\n",
      "    dims : (int, int)\n",
      "        The dimensions of the Hamiltonian matrix\n",
      "    e0 : numpy.array\n",
      "        Field-free energies of the basis states.\n",
      "\n",
      "    Methods\n",
      "    -------\n",
      "    reset()\n",
      "        Wipe the in-memory cache of sparse matrices.\n",
      "    e0_matrix()\n",
      "        Field-free Hamiltonian matrix.\n",
      "    stark_matrix(Fz)\n",
      "        Stark interaction matrix.\n",
      "    zeeman_matrix(Bz)\n",
      "        Zeeman interaction matrix.\n",
      "    matrix(Fz, Bz)\n",
      "        Total Hamiltonian matrix.\n",
      "    eigenvalues(electric_field, magnetic_field)\n",
      "        Eigenvalues of the total Hamiltonian.\n",
      "    eigenvectors(electric_field, magnetic_field)\n",
      "        Eigenvalues and vectors of the total Hamiltonian.\n",
      "    stark_map((electric_fields)\n",
      "        Eigenvalues of the Hamiltonian for a range of electric fields.\n",
      "    zeeman_map((magnetic_fields)\n",
      "        Eigenvalues of the Hamiltonian for a range of magnetic fields.\n",
      "\n",
      "    \n"
     ]
    }
   ],
   "source": [
    "print(Hamiltonian.__doc__)"
   ]
  },
  {
   "cell_type": "code",
   "execution_count": 14,
   "metadata": {},
   "outputs": [
    {
     "name": "stderr",
     "output_type": "stream",
     "text": [
      "calculate Stark terms: 100%|██████████| 56/56 [00:01<00:00, 32.44it/s]\n",
      "calculate Zeeman terms: 100%|██████████| 56/56 [00:00<00:00, 482.46it/s]\n"
     ]
    }
   ],
   "source": [
    "electric_field = 10.1   # [V / m]\n",
    "magnetic_field = 0.1    # [T]\n",
    "en = H.eigenvalues(electric_field, magnetic_field, units='eV')"
   ]
  },
  {
   "cell_type": "code",
   "execution_count": 15,
   "metadata": {},
   "outputs": [
    {
     "name": "stdout",
     "output_type": "stream",
     "text": [
      "[-1.70078788 -1.70075795 -1.70073993 -1.70073993 -1.7007338  -1.70073054\n",
      " -1.70072531 -1.70072531 -1.70071568 -1.70071568 -1.70071048 -1.70071048\n",
      " -1.70070988 -1.70068097 -1.70068097 -1.70067971]\n"
     ]
    }
   ],
   "source": [
    "idx = basis.argwhere(lambda state: state.n == 2, ndarray=True)\n",
    "print(en[idx])"
   ]
  },
  {
   "cell_type": "code",
   "execution_count": 16,
   "metadata": {},
   "outputs": [],
   "source": [
    "vals, vecs = H.eigenvectors(electric_field=100)"
   ]
  },
  {
   "cell_type": "code",
   "execution_count": 17,
   "metadata": {},
   "outputs": [
    {
     "data": {
      "text/plain": [
       "array([-0.25001747, -0.24998641, -0.24998641, -0.24998641, -0.06250276,\n",
       "       -0.06250165, -0.06250081, -0.06250081, -0.06250081, -0.06250054,\n",
       "       -0.06250054, -0.06250054, -0.06250015, -0.06250015, -0.06250015,\n",
       "       -0.06250015, -0.06250015, -0.06249887, -0.06249887, -0.06249887,\n",
       "       -0.02777865, -0.02777832, -0.02777808, -0.02777808, -0.02777808,\n",
       "       -0.02777799, -0.02777799, -0.02777799, -0.02777794, -0.02777794,\n",
       "       -0.02777794, -0.02777788, -0.02777788, -0.02777788, -0.02777788,\n",
       "       -0.02777788, -0.02777788, -0.02777788, -0.02777788, -0.02777788,\n",
       "       -0.02777788, -0.02777786, -0.02777786, -0.02777786, -0.02777786,\n",
       "       -0.02777786, -0.02777782, -0.02777782, -0.02777782, -0.02777782,\n",
       "       -0.02777781, -0.02777781, -0.02777781, -0.0277775 , -0.0277775 ,\n",
       "       -0.0277775 ])"
      ]
     },
     "execution_count": 17,
     "metadata": {},
     "output_type": "execute_result"
    }
   ],
   "source": [
    "vals"
   ]
  },
  {
   "cell_type": "code",
   "execution_count": 18,
   "metadata": {},
   "outputs": [
    {
     "data": {
      "text/plain": [
       "array([[ 1.00000000e+00,  1.11510488e-22, -7.59436576e-22, ...,\n",
       "         3.41731920e-31, -3.41871077e-31, -1.45380819e-34],\n",
       "       [-7.40947034e-22, -1.09387315e-01, -9.91690753e-01, ...,\n",
       "         8.55585624e-17,  3.27088713e-12, -2.20537254e-15],\n",
       "       [-2.00462052e-22,  9.60286773e-01, -1.23020584e-01, ...,\n",
       "         3.23705081e-12, -8.51790865e-17,  1.51268742e-19],\n",
       "       ...,\n",
       "       [ 3.88850370e-39,  5.54204393e-19,  5.20465826e-18, ...,\n",
       "        -2.61915499e-05, -9.99979310e-01,  6.74229028e-04],\n",
       "       [ 1.05221653e-39, -5.02369120e-18,  6.47914444e-19, ...,\n",
       "        -9.99978929e-01,  2.61915084e-05, -4.67995993e-08],\n",
       "       [-3.40502090e-48,  1.34765933e-18,  1.97528326e-19, ...,\n",
       "         2.91401816e-08, -6.74229029e-04, -9.99979311e-01]])"
      ]
     },
     "execution_count": 18,
     "metadata": {},
     "output_type": "execute_result"
    }
   ],
   "source": [
    "vecs"
   ]
  },
  {
   "cell_type": "code",
   "execution_count": null,
   "metadata": {},
   "outputs": [],
   "source": []
  }
 ],
 "metadata": {
  "kernelspec": {
   "display_name": "Python 3",
   "language": "python",
   "name": "python3"
  },
  "language_info": {
   "codemirror_mode": {
    "name": "ipython",
    "version": 3
   },
   "file_extension": ".py",
   "mimetype": "text/x-python",
   "name": "python",
   "nbconvert_exporter": "python",
   "pygments_lexer": "ipython3",
   "version": "3.7.6"
  }
 },
 "nbformat": 4,
 "nbformat_minor": 2
}
