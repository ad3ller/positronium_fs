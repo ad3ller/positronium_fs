{
 "cells": [
  {
   "cell_type": "code",
   "execution_count": 1,
   "id": "ced36428",
   "metadata": {},
   "outputs": [],
   "source": [
    "from IPython.display import display, Math\n",
    "from pyps import State\n",
    "from pyps.constants import Ry_c\n",
    "from pyps.energy import energy"
   ]
  },
  {
   "cell_type": "markdown",
   "id": "e8dcbed1",
   "metadata": {},
   "source": [
    "Field-free transition frequencies between $S$ and $P$ states of positronium for $n=1$ and $n=2$.  Calculations include O(mα$^6$) recoil and radiative recoil corrections, as described in:\n",
    "\n",
    "> #### Positronium $S$-state spectrum: analytic results at O(mα$^6$)\n",
    "> Andrzej Czarnecki, Kirill Melnikov, and Alexander Yelkhovsky\n",
    ">\n",
    "> Phys. Rev. A **59**, 4316 (1999)\n",
    ">\n",
    "> https://doi.org/10.1103/PhysRevA.59.4316\n",
    "\n",
    "The comments below indicate the expected values from the same article (see Table 1).  Agreement is to within 1 MHz.\n",
    "\n",
    "CODATA 2018 values have been used for the physical constants.\n",
    "\n",
    "https://doi.org/10.1103/RevModPhys.93.025010"
   ]
  },
  {
   "cell_type": "code",
   "execution_count": 2,
   "id": "4ce7afb8",
   "metadata": {},
   "outputs": [
    {
     "name": "stdout",
     "output_type": "stream",
     "text": [
      "Dataclass to represent ❘n, L, S, J, MJ⟩.\n"
     ]
    }
   ],
   "source": [
    "print(State.__doc__)"
   ]
  },
  {
   "cell_type": "code",
   "execution_count": 3,
   "id": "76a70468",
   "metadata": {},
   "outputs": [
    {
     "data": {
      "text/latex": [
       "$\\displaystyle 2^3S_1 \\rightarrow 1^3S_1$"
      ],
      "text/plain": [
       "<IPython.core.display.Math object>"
      ]
     },
     "metadata": {},
     "output_type": "display_data"
    },
    {
     "name": "stdout",
     "output_type": "stream",
     "text": [
      "1233607222.12 MHz\n"
     ]
    }
   ],
   "source": [
    "# 1233 607 222.18(58) MHz\n",
    "s1 = State(2, 0, 1, 1, 0)\n",
    "s2 = State(1, 0, 1, 1, 0)\n",
    "\n",
    "display(Math(f\"{s1.tex(show_MJ=False)} \\\\rightarrow {s2.tex(show_MJ=False)}\"))\n",
    "print(\n",
    "    f\"{(energy(s1, m_alpha6=True) - energy(s2, m_alpha6=True)) * 2.0 * Ry_c * 1e-6:.2f} MHz\"\n",
    ")"
   ]
  },
  {
   "cell_type": "code",
   "execution_count": 4,
   "id": "ff1bf5ae",
   "metadata": {},
   "outputs": [
    {
     "data": {
      "text/latex": [
       "$\\displaystyle 1^3S_1 \\rightarrow 1^1S_0$"
      ],
      "text/plain": [
       "<IPython.core.display.Math object>"
      ]
     },
     "metadata": {},
     "output_type": "display_data"
    },
    {
     "name": "stdout",
     "output_type": "stream",
     "text": [
      "203392.01 MHz\n"
     ]
    }
   ],
   "source": [
    "# 203 392.01(46) MHz\n",
    "s1 = State(1, 0, 1, 1, 0)\n",
    "s2 = State(1, 0, 0, 0, 0)\n",
    "\n",
    "display(Math(f\"{s1.tex(show_MJ=False)} \\\\rightarrow {s2.tex(show_MJ=False)}\"))\n",
    "print(\n",
    "    f\"{(energy(s1, m_alpha6=True) - energy(s2, m_alpha6=True)) * 2.0 * Ry_c * 1e-6:.2f} MHz\"\n",
    ")"
   ]
  },
  {
   "cell_type": "code",
   "execution_count": 5,
   "id": "b3e4c394",
   "metadata": {},
   "outputs": [
    {
     "data": {
      "text/latex": [
       "$\\displaystyle 2^3S_1 \\rightarrow 2^3P_0$"
      ],
      "text/plain": [
       "<IPython.core.display.Math object>"
      ]
     },
     "metadata": {},
     "output_type": "display_data"
    },
    {
     "name": "stdout",
     "output_type": "stream",
     "text": [
      "18498.25 MHz\n"
     ]
    }
   ],
   "source": [
    "# 18498.25(8) MHz\n",
    "s1 = State(2, 0, 1, 1, 0)\n",
    "s2 = State(2, 1, 1, 0, 0)\n",
    "\n",
    "display(Math(f\"{s1.tex(show_MJ=False)} \\\\rightarrow {s2.tex(show_MJ=False)}\"))\n",
    "print(\n",
    "    f\"{(energy(s1, m_alpha6=True) - energy(s2, m_alpha6=True)) * 2.0 * Ry_c * 1e-6:.2f} MHz\"\n",
    ")"
   ]
  },
  {
   "cell_type": "code",
   "execution_count": 6,
   "id": "e629487f",
   "metadata": {},
   "outputs": [
    {
     "data": {
      "text/latex": [
       "$\\displaystyle 2^3S_1 \\rightarrow 2^3P_1$"
      ],
      "text/plain": [
       "<IPython.core.display.Math object>"
      ]
     },
     "metadata": {},
     "output_type": "display_data"
    },
    {
     "name": "stdout",
     "output_type": "stream",
     "text": [
      "13012.41 MHz\n"
     ]
    }
   ],
   "source": [
    "# 13012.41(8) MHz\n",
    "s1 = State(2, 0, 1, 1, 0)\n",
    "s2 = State(2, 1, 1, 1, 0)\n",
    "\n",
    "display(Math(f\"{s1.tex(show_MJ=False)} \\\\rightarrow {s2.tex(show_MJ=False)}\"))\n",
    "print(\n",
    "    f\"{(energy(s1, m_alpha6=True) - energy(s2, m_alpha6=True)) * 2.0 * Ry_c * 1e-6:.2f} MHz\"\n",
    ")"
   ]
  },
  {
   "cell_type": "code",
   "execution_count": 7,
   "id": "6e2faa66",
   "metadata": {},
   "outputs": [
    {
     "data": {
      "text/latex": [
       "$\\displaystyle 2^3S_1 \\rightarrow 2^3P_2$"
      ],
      "text/plain": [
       "<IPython.core.display.Math object>"
      ]
     },
     "metadata": {},
     "output_type": "display_data"
    },
    {
     "name": "stdout",
     "output_type": "stream",
     "text": [
      "8626.71 MHz\n"
     ]
    }
   ],
   "source": [
    "# 8626.71(8) MHz\n",
    "s1 = State(2, 0, 1, 1, 0)\n",
    "s2 = State(2, 1, 1, 2, 0)\n",
    "\n",
    "display(Math(f\"{s1.tex(show_MJ=False)} \\\\rightarrow {s2.tex(show_MJ=False)}\"))\n",
    "print(\n",
    "    f\"{(energy(s1, m_alpha6=True) - energy(s2, m_alpha6=True)) * 2.0 * Ry_c * 1e-6:.2f} MHz\"\n",
    ")"
   ]
  },
  {
   "cell_type": "code",
   "execution_count": 8,
   "id": "6012bccc",
   "metadata": {},
   "outputs": [
    {
     "data": {
      "text/latex": [
       "$\\displaystyle 2^3S_1 \\rightarrow 2^1P_1$"
      ],
      "text/plain": [
       "<IPython.core.display.Math object>"
      ]
     },
     "metadata": {},
     "output_type": "display_data"
    },
    {
     "name": "stdout",
     "output_type": "stream",
     "text": [
      "11185.37 MHz\n"
     ]
    }
   ],
   "source": [
    "# 11185.37(8) MHz\n",
    "s1 = State(2, 0, 1, 1, 0)\n",
    "s2 = State(2, 1, 0, 1, 0)\n",
    "\n",
    "display(Math(f'{s1.tex(show_MJ=False)} \\\\rightarrow {s2.tex(show_MJ=False)}'))\n",
    "print(f'{(energy(s1, m_alpha6=True) - energy(s2, m_alpha6=True)) * 2.0 * Ry_c * 1e-6:.2f} MHz')"
   ]
  },
  {
   "cell_type": "code",
   "execution_count": 9,
   "id": "0a23c279",
   "metadata": {},
   "outputs": [
    {
     "data": {
      "text/latex": [
       "$\\displaystyle 2^3S_1 \\rightarrow 2^1S_0$"
      ],
      "text/plain": [
       "<IPython.core.display.Math object>"
      ]
     },
     "metadata": {},
     "output_type": "display_data"
    },
    {
     "name": "stdout",
     "output_type": "stream",
     "text": [
      "25424.67 MHz\n"
     ]
    }
   ],
   "source": [
    "# 25424.67(6) MHz\n",
    "s1 = State(2, 0, 1, 1, 0)\n",
    "s2 = State(2, 0, 0, 0, 0)\n",
    "\n",
    "display(Math(f\"{s1.tex(show_MJ=False)} \\\\rightarrow {s2.tex(show_MJ=False)}\"))\n",
    "print(\n",
    "    f\"{(energy(s1, m_alpha6=True) - energy(s2, m_alpha6=True)) * 2.0 * Ry_c * 1e-6:.2f} MHz\"\n",
    ")"
   ]
  },
  {
   "cell_type": "code",
   "execution_count": null,
   "id": "b7befae6",
   "metadata": {},
   "outputs": [],
   "source": []
  }
 ],
 "metadata": {
  "kernelspec": {
   "display_name": "Python 3 (ipykernel)",
   "language": "python",
   "name": "python3"
  },
  "language_info": {
   "codemirror_mode": {
    "name": "ipython",
    "version": 3
   },
   "file_extension": ".py",
   "mimetype": "text/x-python",
   "name": "python",
   "nbconvert_exporter": "python",
   "pygments_lexer": "ipython3",
   "version": "3.9.7"
  }
 },
 "nbformat": 4,
 "nbformat_minor": 5
}
