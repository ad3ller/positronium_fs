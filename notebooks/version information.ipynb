{
 "cells": [
  {
   "cell_type": "markdown",
   "metadata": {},
   "source": [
    "Requires `version_information` and `tabulate`."
   ]
  },
  {
   "cell_type": "code",
   "execution_count": 1,
   "metadata": {},
   "outputs": [],
   "source": [
    "%load_ext version_information"
   ]
  },
  {
   "cell_type": "code",
   "execution_count": 2,
   "metadata": {},
   "outputs": [
    {
     "data": {
      "application/json": {
       "Software versions": [
        {
         "module": "Python",
         "version": "3.7.6 64bit [GCC 7.3.0]"
        },
        {
         "module": "IPython",
         "version": "7.12.0"
        },
        {
         "module": "OS",
         "version": "Linux 5.11.0 36 generic x86_64 with debian bullseye sid"
        },
        {
         "module": "cython",
         "version": "0.29.15"
        },
        {
         "module": "matplotlib",
         "version": "3.1.3"
        },
        {
         "module": "numerov",
         "version": "0.0.5"
        },
        {
         "module": "scipy",
         "version": "1.4.1"
        },
        {
         "module": "numpy",
         "version": "1.18.1"
        },
        {
         "module": "sympy",
         "version": "1.5.1"
        },
        {
         "module": "tqdm",
         "version": "4.42.1"
        }
       ]
      },
      "text/html": [
       "<table><tr><th>Software</th><th>Version</th></tr><tr><td>Python</td><td>3.7.6 64bit [GCC 7.3.0]</td></tr><tr><td>IPython</td><td>7.12.0</td></tr><tr><td>OS</td><td>Linux 5.11.0 36 generic x86_64 with debian bullseye sid</td></tr><tr><td>cython</td><td>0.29.15</td></tr><tr><td>matplotlib</td><td>3.1.3</td></tr><tr><td>numerov</td><td>0.0.5</td></tr><tr><td>scipy</td><td>1.4.1</td></tr><tr><td>numpy</td><td>1.18.1</td></tr><tr><td>sympy</td><td>1.5.1</td></tr><tr><td>tqdm</td><td>4.42.1</td></tr><tr><td colspan='2'>Sun Oct 31 13:40:25 2021 CET</td></tr></table>"
      ],
      "text/latex": [
       "\\begin{tabular}{|l|l|}\\hline\n",
       "{\\bf Software} & {\\bf Version} \\\\ \\hline\\hline\n",
       "Python & 3.7.6 64bit [GCC 7.3.0] \\\\ \\hline\n",
       "IPython & 7.12.0 \\\\ \\hline\n",
       "OS & Linux 5.11.0 36 generic x86\\_64 with debian bullseye sid \\\\ \\hline\n",
       "cython & 0.29.15 \\\\ \\hline\n",
       "matplotlib & 3.1.3 \\\\ \\hline\n",
       "numerov & 0.0.5 \\\\ \\hline\n",
       "scipy & 1.4.1 \\\\ \\hline\n",
       "numpy & 1.18.1 \\\\ \\hline\n",
       "sympy & 1.5.1 \\\\ \\hline\n",
       "tqdm & 4.42.1 \\\\ \\hline\n",
       "\\hline \\multicolumn{2}{|l|}{Sun Oct 31 13:40:25 2021 CET} \\\\ \\hline\n",
       "\\end{tabular}\n"
      ],
      "text/plain": [
       "Software versions\n",
       "Python 3.7.6 64bit [GCC 7.3.0]\n",
       "IPython 7.12.0\n",
       "OS Linux 5.11.0 36 generic x86_64 with debian bullseye sid\n",
       "cython 0.29.15\n",
       "matplotlib 3.1.3\n",
       "numerov 0.0.5\n",
       "scipy 1.4.1\n",
       "numpy 1.18.1\n",
       "sympy 1.5.1\n",
       "tqdm 4.42.1\n",
       "Sun Oct 31 13:40:25 2021 CET"
      ]
     },
     "execution_count": 2,
     "metadata": {},
     "output_type": "execute_result"
    }
   ],
   "source": [
    "ver = %version_information cython, matplotlib, numerov, scipy, numpy, sympy, tqdm\n",
    "ver"
   ]
  },
  {
   "cell_type": "code",
   "execution_count": 3,
   "metadata": {},
   "outputs": [
    {
     "name": "stdout",
     "output_type": "stream",
     "text": [
      "==========  =======================================================\n",
      "Python      3.7.6 64bit [GCC 7.3.0]\n",
      "IPython     7.12.0\n",
      "OS          Linux 5.11.0 36 generic x86_64 with debian bullseye sid\n",
      "cython      0.29.15\n",
      "matplotlib  3.1.3\n",
      "numerov     0.0.5\n",
      "scipy       1.4.1\n",
      "numpy       1.18.1\n",
      "sympy       1.5.1\n",
      "tqdm        4.42.1\n",
      "==========  =======================================================\n"
     ]
    }
   ],
   "source": [
    "from tabulate import tabulate\n",
    "print(tabulate(ver.packages,  tablefmt='rst'))"
   ]
  },
  {
   "cell_type": "code",
   "execution_count": null,
   "metadata": {},
   "outputs": [],
   "source": []
  }
 ],
 "metadata": {
  "kernelspec": {
   "display_name": "Python 3",
   "language": "python",
   "name": "python3"
  },
  "language_info": {
   "codemirror_mode": {
    "name": "ipython",
    "version": 3
   },
   "file_extension": ".py",
   "mimetype": "text/x-python",
   "name": "python",
   "nbconvert_exporter": "python",
   "pygments_lexer": "ipython3",
   "version": "3.7.6"
  }
 },
 "nbformat": 4,
 "nbformat_minor": 2
}
