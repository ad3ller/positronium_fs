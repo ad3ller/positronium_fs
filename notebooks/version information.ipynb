{
 "cells": [
  {
   "cell_type": "markdown",
   "metadata": {},
   "source": [
    "Requires `version_information` and `tabulate`."
   ]
  },
  {
   "cell_type": "code",
   "execution_count": 1,
   "metadata": {},
   "outputs": [],
   "source": [
    "%load_ext version_information"
   ]
  },
  {
   "cell_type": "code",
   "execution_count": 2,
   "metadata": {},
   "outputs": [],
   "source": [
    "info = %version_information cython, matplotlib, numerov, scipy, numpy, sympy, tqdm"
   ]
  },
  {
   "cell_type": "code",
   "execution_count": 3,
   "metadata": {},
   "outputs": [
    {
     "name": "stdout",
     "output_type": "stream",
     "text": [
      "==========  =============================================\n",
      "Python      3.9.7 64bit [GCC 7.5.0]\n",
      "IPython     7.29.0\n",
      "OS          Linux 5.13.0 44 generic x86_64 with glibc2.34\n",
      "cython      0.29.24\n",
      "matplotlib  3.4.3\n",
      "numerov     0.0.5\n",
      "scipy       1.7.1\n",
      "numpy       1.20.3\n",
      "sympy       1.9\n",
      "tqdm        4.62.3\n",
      "==========  =============================================\n"
     ]
    }
   ],
   "source": [
    "from tabulate import tabulate\n",
    "\n",
    "print(tabulate(info.packages, tablefmt=\"rst\"))"
   ]
  },
  {
   "cell_type": "code",
   "execution_count": null,
   "metadata": {},
   "outputs": [],
   "source": []
  }
 ],
 "metadata": {
  "kernelspec": {
   "display_name": "Python 3 (ipykernel)",
   "language": "python",
   "name": "python3"
  },
  "language_info": {
   "codemirror_mode": {
    "name": "ipython",
    "version": 3
   },
   "file_extension": ".py",
   "mimetype": "text/x-python",
   "name": "python",
   "nbconvert_exporter": "python",
   "pygments_lexer": "ipython3",
   "version": "3.9.7"
  }
 },
 "nbformat": 4,
 "nbformat_minor": 2
}
