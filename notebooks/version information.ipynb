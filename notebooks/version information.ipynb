{
 "cells": [
  {
   "cell_type": "markdown",
   "metadata": {},
   "source": [
    "Requires `version_information` and `tabulate`."
   ]
  },
  {
   "cell_type": "code",
   "execution_count": 1,
   "metadata": {},
   "outputs": [],
   "source": [
    "%load_ext version_information"
   ]
  },
  {
   "cell_type": "code",
   "execution_count": 2,
   "metadata": {},
   "outputs": [],
   "source": [
    "info = %version_information cython, matplotlib, numerov, scipy, numpy, sympy, tqdm"
   ]
  },
  {
   "cell_type": "code",
   "execution_count": 3,
   "metadata": {},
   "outputs": [
    {
     "name": "stdout",
     "output_type": "stream",
     "text": [
      "==========  =============================================\n",
      "Python      3.9.12 64bit [GCC 7.5.0]\n",
      "IPython     8.2.0\n",
      "OS          Linux 5.19.0 41 generic x86_64 with glibc2.35\n",
      "cython      0.29.28\n",
      "matplotlib  3.5.1\n",
      "numerov     0.0.5\n",
      "scipy       1.7.3\n",
      "numpy       1.21.5\n",
      "sympy       1.10.1\n",
      "tqdm        4.64.0\n",
      "==========  =============================================\n"
     ]
    }
   ],
   "source": [
    "from tabulate import tabulate\n",
    "\n",
    "print(tabulate(info.packages, tablefmt=\"rst\"))"
   ]
  },
  {
   "cell_type": "code",
   "execution_count": null,
   "metadata": {},
   "outputs": [],
   "source": []
  }
 ],
 "metadata": {
  "kernelspec": {
   "display_name": "Python 3 (ipykernel)",
   "language": "python",
   "name": "python3"
  },
  "language_info": {
   "codemirror_mode": {
    "name": "ipython",
    "version": 3
   },
   "file_extension": ".py",
   "mimetype": "text/x-python",
   "name": "python",
   "nbconvert_exporter": "python",
   "pygments_lexer": "ipython3",
   "version": "3.9.12"
  }
 },
 "nbformat": 4,
 "nbformat_minor": 2
}
